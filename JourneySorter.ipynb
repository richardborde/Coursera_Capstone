{
  "nbformat": 4,
  "nbformat_minor": 0,
  "metadata": {
    "colab": {
      "provenance": [],
      "authorship_tag": "ABX9TyPkNNODQY7h/WfHL9v6r4rL",
      "include_colab_link": true
    },
    "kernelspec": {
      "name": "python3",
      "display_name": "Python 3"
    },
    "language_info": {
      "name": "python"
    }
  },
  "cells": [
    {
      "cell_type": "markdown",
      "metadata": {
        "id": "view-in-github",
        "colab_type": "text"
      },
      "source": [
        "<a href=\"https://colab.research.google.com/github/richardborde/Coursera_Capstone/blob/master/JourneySorter.ipynb\" target=\"_parent\"><img src=\"https://colab.research.google.com/assets/colab-badge.svg\" alt=\"Open In Colab\"/></a>"
      ]
    },
    {
      "cell_type": "markdown",
      "source": [
        "## Journey Sorter API\n",
        "\n",
        "This notebook contains an API for sorting a list of boarding cards for various types of transport.\n",
        "It will sort the cards in such a way that they form a complete journey from start to end.\n",
        "\n",
        "### How to Run\n",
        "\n",
        "1. Execute the cell that installs required libraries.\n",
        "2. Run the cell that imports libraries.\n",
        "3. Execute the cells to define the `BoardingCard` and `JourneySorter` classes.\n",
        "4. Run the cell that reads data from Google Sheets.\n",
        "5. Execute the sorting algorithm and see the sorted journey.\n",
        "\n",
        "### Assumptions\n",
        "\n",
        "- There is always an unbroken chain between all legs of the trip.\n",
        "- The sorting algorithm has the lowest possible time complexity to sort the cards.\n"
      ],
      "metadata": {
        "id": "1GcF8ynJUukP"
      }
    },
    {
      "cell_type": "code",
      "source": [
        "# Import libraries and authenticate the user\n",
        "from google.colab import auth\n",
        "auth.authenticate_user()\n",
        "\n",
        "import gspread\n",
        "from google.auth import default\n",
        "\n",
        "# Initialize Google Sheets API Client\n",
        "creds, _ = default()\n",
        "gc = gspread.authorize(creds)\n"
      ],
      "metadata": {
        "id": "omQI_LTX5EYu"
      },
      "execution_count": 80,
      "outputs": []
    },
    {
      "cell_type": "code",
      "source": [
        "class BoardingCard:\n",
        "    \"\"\"\n",
        "    This class represents a boarding card for various types of transport.\n",
        "\n",
        "    Attributes:\n",
        "    - transport_type: A string representing the type of transport (e.g., 'Train', 'Bus', etc.)\n",
        "    - from_city: A string representing the departure city.\n",
        "    - to_city: A string representing the destination city.\n",
        "    - seat: A string representing the seat assignment.\n",
        "    - gate: A string representing the gate number.\n",
        "    - baggage: A string representing the baggage claim or drop-off information.\n",
        "    \"\"\"\n",
        "\n",
        "    def __init__(self, transport_type, departure, destination, seat, gate, baggage):\n",
        "        \"\"\"\n",
        "        Initializes a new BoardingCard object.\n",
        "\n",
        "        Args:\n",
        "        - transport_type (str): The type of transport.\n",
        "        - from_city (str): The departure city.\n",
        "        - to_city (str): The destination city.\n",
        "        - seat (str): The seat assignment.\n",
        "        - gate (str): The gate number.\n",
        "        - baggage (str): Baggage claim or drop-off information.\n",
        "\n",
        "        Returns:\n",
        "        None\n",
        "        \"\"\"\n",
        "        self.transport_type = transport_type\n",
        "        self.departure = departure\n",
        "        self.destination = destination\n",
        "        self.seat = seat\n",
        "        self.gate = gate\n",
        "        self.baggage = baggage\n"
      ],
      "metadata": {
        "id": "TXu1fnbh8C_A"
      },
      "execution_count": 81,
      "outputs": []
    },
    {
      "cell_type": "code",
      "source": [
        "class JourneySorter:\n",
        "    \"\"\"\n",
        "    This class takes a list of boarding cards and sorts them to form a complete journey.\n",
        "    \"\"\"\n",
        "\n",
        "    def __init__(self, boarding_cards):\n",
        "        \"\"\"\n",
        "        Initializes a new JourneySorter object with a list of unsorted boarding cards.\n",
        "        \"\"\"\n",
        "        self.boarding_cards = boarding_cards\n",
        "        self.sorted_journey = []\n",
        "\n",
        "    def sort_journey(self):\n",
        "        \"\"\"\n",
        "        Sorts the list of boarding cards to form a complete journey.\n",
        "        \"\"\"\n",
        "        from_to_map = {card.departure: card for card in self.boarding_cards}\n",
        "        to_from_map = {card.destination: card for card in self.boarding_cards}\n",
        "\n",
        "        # Find the starting city\n",
        "        start = None\n",
        "        for city in from_to_map.keys():\n",
        "            if city not in to_from_map:\n",
        "                start = city\n",
        "                break\n",
        "\n",
        "        # Sort the journey\n",
        "        while start:\n",
        "            card = from_to_map.get(start, None)\n",
        "            if card:\n",
        "                self.sorted_journey.append(card)\n",
        "                start = card.destination\n",
        "            else:\n",
        "                break\n"
      ],
      "metadata": {
        "id": "I-80q0QJxXgX"
      },
      "execution_count": 82,
      "outputs": []
    },
    {
      "cell_type": "code",
      "source": [
        "# Read data from the Google Sheet\n",
        "worksheet = gc.open_by_key('1WdhXWghzw692Tk2Vncw1oqc7iDgvCANixABYASB4X5w').sheet1\n",
        "rows = worksheet.get_all_values()\n",
        "\n",
        "# Convert the rows to BoardingCard objects, taking into account the new headers\n",
        "boarding_cards = [BoardingCard(*row) for row in rows[1:]]  # Exclude header\n"
      ],
      "metadata": {
        "id": "oIPahEoGxlXa"
      },
      "execution_count": 83,
      "outputs": []
    },
    {
      "cell_type": "code",
      "source": [
        "print(\"Loaded Boarding Cards:\")\n",
        "for card in boarding_cards:\n",
        "    print(card.__dict__)\n"
      ],
      "metadata": {
        "colab": {
          "base_uri": "https://localhost:8080/"
        },
        "id": "dpjBDJIOPkQO",
        "outputId": "57cc0ed3-ce00-4ac9-8dd7-45e92464ef78"
      },
      "execution_count": 84,
      "outputs": [
        {
          "output_type": "stream",
          "name": "stdout",
          "text": [
            "Loaded Boarding Cards:\n",
            "{'transport_type': 'flight AA203', 'departure': 'Raleigh', 'destination': 'New York City', 'seat': '4D', 'gate': '3A', 'baggage': '210'}\n",
            "{'transport_type': 'train Amtrak', 'departure': 'Detroit', 'destination': 'Washington DC', 'seat': '15B', 'gate': '', 'baggage': ''}\n",
            "{'transport_type': 'bus Greyhound', 'departure': 'Chicago', 'destination': 'Detroit', 'seat': '20', 'gate': '', 'baggage': ''}\n",
            "{'transport_type': 'flight DL101', 'departure': 'Washington DC', 'destination': 'Atlanta', 'seat': '3C', 'gate': '5B', 'baggage': '105'}\n",
            "{'transport_type': 'bus Megabus', 'departure': 'Atlanta', 'destination': 'Raleigh', 'seat': '25', 'gate': '', 'baggage': ''}\n",
            "{'transport_type': 'flight UA789', 'departure': 'San Francisco', 'destination': 'Chicago', 'seat': '12A', 'gate': '7A', 'baggage': '301'}\n"
          ]
        }
      ]
    },
    {
      "cell_type": "code",
      "source": [
        "# Debug print to check if the boarding cards are correctly populated\n",
        "print(\"Check initial boarding cards:\")\n",
        "for card in boarding_cards:\n",
        "    print(f\"Transport Type: {card.transport_type}, Departure: {card.departure}, Destination: {card.destination}, Seat: {card.seat}, Gate: {card.gate}, Baggage: {card.baggage}\")\n"
      ],
      "metadata": {
        "colab": {
          "base_uri": "https://localhost:8080/"
        },
        "id": "4cui_KMOSsgA",
        "outputId": "f63c122d-59aa-46ce-a931-e7cdecd4fcc6"
      },
      "execution_count": 85,
      "outputs": [
        {
          "output_type": "stream",
          "name": "stdout",
          "text": [
            "Check initial boarding cards:\n",
            "Transport Type: flight AA203, Departure: Raleigh, Destination: New York City, Seat: 4D, Gate: 3A, Baggage: 210\n",
            "Transport Type: train Amtrak, Departure: Detroit, Destination: Washington DC, Seat: 15B, Gate: , Baggage: \n",
            "Transport Type: bus Greyhound, Departure: Chicago, Destination: Detroit, Seat: 20, Gate: , Baggage: \n",
            "Transport Type: flight DL101, Departure: Washington DC, Destination: Atlanta, Seat: 3C, Gate: 5B, Baggage: 105\n",
            "Transport Type: bus Megabus, Departure: Atlanta, Destination: Raleigh, Seat: 25, Gate: , Baggage: \n",
            "Transport Type: flight UA789, Departure: San Francisco, Destination: Chicago, Seat: 12A, Gate: 7A, Baggage: 301\n"
          ]
        }
      ]
    },
    {
      "cell_type": "code",
      "source": [
        "# JourneySorter class definition\n",
        "class JourneySorter:\n",
        "    def __init__(self, boarding_cards):\n",
        "        self.boarding_cards = boarding_cards\n",
        "        self.sorted_journey = []\n",
        "\n",
        "    def sort_journey(self):\n",
        "        # Create mappings\n",
        "        from_to_map = {card.departure: card for card in self.boarding_cards}\n",
        "        to_from_map = {card.destination: card for card in self.boarding_cards}\n",
        "\n",
        "        # Debug prints\n",
        "        print(\"From-To Map:\", from_to_map)\n",
        "        print(\"To-From Map:\", to_from_map)\n",
        "\n",
        "        # Find the starting city\n",
        "        for city in from_to_map.keys():\n",
        "          if city not in to_from_map:\n",
        "            start = city\n",
        "            break\n",
        "\n",
        "        # Sort the journey\n",
        "        current = start\n",
        "        while current in from_to_map:\n",
        "            print(f\"Current city: {current}\")  # Debug line\n",
        "            self.sorted_journey.append(from_to_map[current])\n",
        "            current = from_to_map[current].destination\n",
        "            print(f\"Sorted Journey: {[card.destination for card in self.sorted_journey]}\")  # Debug line\n",
        "\n",
        "# Initialize the JourneySorter class and sort the boarding cards\n",
        "journey_sorter = JourneySorter(boarding_cards)\n",
        "journey_sorter.sort_journey()\n",
        "\n",
        "# Display the sorted journey\n",
        "for i, card in enumerate(journey_sorter.sorted_journey):\n",
        "    print(f\"{i+1}. Take {card.transport_type} from {card.departure} to {card.destination}. \"\n",
        "          f\"Sit in seat {card.seat}. Gate: {card.gate}. Baggage: {card.baggage}\")\n"
      ],
      "metadata": {
        "colab": {
          "base_uri": "https://localhost:8080/"
        },
        "id": "XsvYQwVsyLqn",
        "outputId": "93758075-52c9-414c-d4e4-a52b4a6518aa"
      },
      "execution_count": 86,
      "outputs": [
        {
          "output_type": "stream",
          "name": "stdout",
          "text": [
            "From-To Map: {'Raleigh': <__main__.BoardingCard object at 0x7bdafd267fd0>, 'Detroit': <__main__.BoardingCard object at 0x7bdafd264bb0>, 'Chicago': <__main__.BoardingCard object at 0x7bdafd265ff0>, 'Washington DC': <__main__.BoardingCard object at 0x7bdafd267640>, 'Atlanta': <__main__.BoardingCard object at 0x7bdafd265b40>, 'San Francisco': <__main__.BoardingCard object at 0x7bdafd2676d0>}\n",
            "To-From Map: {'New York City': <__main__.BoardingCard object at 0x7bdafd267fd0>, 'Washington DC': <__main__.BoardingCard object at 0x7bdafd264bb0>, 'Detroit': <__main__.BoardingCard object at 0x7bdafd265ff0>, 'Atlanta': <__main__.BoardingCard object at 0x7bdafd267640>, 'Raleigh': <__main__.BoardingCard object at 0x7bdafd265b40>, 'Chicago': <__main__.BoardingCard object at 0x7bdafd2676d0>}\n",
            "Current city: San Francisco\n",
            "Sorted Journey: ['Chicago']\n",
            "Current city: Chicago\n",
            "Sorted Journey: ['Chicago', 'Detroit']\n",
            "Current city: Detroit\n",
            "Sorted Journey: ['Chicago', 'Detroit', 'Washington DC']\n",
            "Current city: Washington DC\n",
            "Sorted Journey: ['Chicago', 'Detroit', 'Washington DC', 'Atlanta']\n",
            "Current city: Atlanta\n",
            "Sorted Journey: ['Chicago', 'Detroit', 'Washington DC', 'Atlanta', 'Raleigh']\n",
            "Current city: Raleigh\n",
            "Sorted Journey: ['Chicago', 'Detroit', 'Washington DC', 'Atlanta', 'Raleigh', 'New York City']\n",
            "1. Take flight UA789 from San Francisco to Chicago. Sit in seat 12A. Gate: 7A. Baggage: 301\n",
            "2. Take bus Greyhound from Chicago to Detroit. Sit in seat 20. Gate: . Baggage: \n",
            "3. Take train Amtrak from Detroit to Washington DC. Sit in seat 15B. Gate: . Baggage: \n",
            "4. Take flight DL101 from Washington DC to Atlanta. Sit in seat 3C. Gate: 5B. Baggage: 105\n",
            "5. Take bus Megabus from Atlanta to Raleigh. Sit in seat 25. Gate: . Baggage: \n",
            "6. Take flight AA203 from Raleigh to New York City. Sit in seat 4D. Gate: 3A. Baggage: 210\n"
          ]
        }
      ]
    }
  ]
}